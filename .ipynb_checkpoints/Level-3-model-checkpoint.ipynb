{
 "cells": [
  {
   "cell_type": "code",
   "execution_count": 1,
   "id": "b2595c49-a8d6-4505-81df-eceabc9f3cc6",
   "metadata": {},
   "outputs": [],
   "source": [
    "import matplotlib.pyplot as plt\n",
    "import numpy as np"
   ]
  },
  {
   "cell_type": "code",
   "execution_count": 57,
   "id": "4a6a4f65-eea5-4bec-994e-112fd8332a69",
   "metadata": {},
   "outputs": [],
   "source": [
    "# Variable parameters\n",
    "\n",
    "NA = 10**15 # in /cm^3\n",
    "\n",
    "t_ox = 1e-5 # in cm\n",
    "\n",
    "V_FB = 0 # in V\n",
    "\n",
    "q = 1.60217663*1e-19 # in C\n",
    "\n",
    "W = 10 * 1e-4 # in cm\n",
    "\n",
    "L = 1  * 1e-4 # in cm\n",
    "\n",
    "V_BS = 0 # in V"
   ]
  },
  {
   "cell_type": "code",
   "execution_count": 42,
   "id": "8ebdbade-5239-40f0-a116-7bda34d2d0dd",
   "metadata": {},
   "outputs": [],
   "source": [
    "# Constants\n",
    "\n",
    "ni = 10**10 # in /cm^3\n",
    "\n",
    "epsilon_ox = 3.9*8.854*1e-14 # in F/cm  # sio2\n",
    "\n",
    "epsilon_s = 11.9*8.854*1e-14 # in F/cm  # si\n",
    "\n",
    "mu_n  = 800 # in cm^2/(V.s)"
   ]
  },
  {
   "cell_type": "code",
   "execution_count": 62,
   "id": "0980c5b6-4891-4726-88f4-89fa9be90c3e",
   "metadata": {},
   "outputs": [],
   "source": [
    "\n",
    "C_ox = epsilon_ox/t_ox # in F/cm^2\n",
    "\n",
    "phi_B = 0.0258*np.log(NA/ni) # no units\n",
    "\n",
    "V_th = V_FB + 2*phi_B + np.sqrt(2*q*NA*epsilon_s*2*phi_B)/C_ox # in V\n",
    "\n",
    "gamma = np.sqrt(2*epsilon_s*q*NA)/C_ox\n",
    "\n",
    "alpha = 1 + gamma/(2*np.sqrt(2*phi_B-V_BS))"
   ]
  },
  {
   "cell_type": "code",
   "execution_count": 63,
   "id": "2a8f760f-7202-4b90-83ed-63aae164df42",
   "metadata": {},
   "outputs": [],
   "source": [
    "V_GS = 1 # in V\n",
    "V_DS = 1 # in V\n",
    "delta = 0.00001\n",
    "\n",
    "\n",
    "V_Dsat = (V_GS - V_th)/alpha\n",
    "\n",
    "V_DS_prime = V_DS - 0.5*(V_DS - V_Dsat + np.sqrt((V_DS-V_Dsat)**2+delta**2))\n",
    "\n",
    "V_DSeff = 2*V_DS_prime - V_DS_prime**2/V_Dsat\n",
    "\n",
    "I_D = mu_n*C_ox*W*(V_GS-V_th)*V_DSeff/L"
   ]
  },
  {
   "cell_type": "code",
   "execution_count": 64,
   "id": "20fb6e6d-59b3-409b-a912-87aa859e0b2e",
   "metadata": {},
   "outputs": [
    {
     "data": {
      "text/plain": [
       "3.62615287985019e-09"
      ]
     },
     "execution_count": 64,
     "metadata": {},
     "output_type": "execute_result"
    }
   ],
   "source": [
    "I_D"
   ]
  }
 ],
 "metadata": {
  "kernelspec": {
   "display_name": "Python 3 (ipykernel)",
   "language": "python",
   "name": "python3"
  },
  "language_info": {
   "codemirror_mode": {
    "name": "ipython",
    "version": 3
   },
   "file_extension": ".py",
   "mimetype": "text/x-python",
   "name": "python",
   "nbconvert_exporter": "python",
   "pygments_lexer": "ipython3",
   "version": "3.11.5"
  }
 },
 "nbformat": 4,
 "nbformat_minor": 5
}
